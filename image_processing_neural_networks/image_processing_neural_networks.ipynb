{
  "nbformat": 4,
  "nbformat_minor": 0,
  "metadata": {
    "colab": {
      "name": "Atividade2_redesCNN_grupo3.ipynb",
      "provenance": [],
      "collapsed_sections": []
    },
    "kernelspec": {
      "name": "python3",
      "display_name": "Python 3"
    },
    "language_info": {
      "name": "python"
    }
  },
  "cells": [
    {
      "cell_type": "markdown",
      "source": [
        "## Visual data processing using convolutional neural networks\n",
        "\n",
        "This algorithm is a example of how to use convolutional neural networks in visual data processing. The challenge is to predict the objects showed in images. First, a dataset collected from keras is divided in training and testing data. Next, a model is built with keras and tensorflow, using the training data. The model will be used to predict the object on the testing data. "
      ],
      "metadata": {
        "id": "3JbSeg7EtL4H"
      }
    },
    {
      "cell_type": "code",
      "execution_count": 12,
      "metadata": {
        "id": "eo2gyfcH7ZcH"
      },
      "outputs": [],
      "source": [
        "import tensorflow as tf\n",
        "import keras\n",
        "from keras.datasets import cifar10 \n",
        "from keras.layers import Dense, Activation, Flatten, Conv2D, MaxPooling2D\n",
        "from keras.models import Sequential\n",
        "import keras.utils\n",
        "import numpy as np\n",
        "import matplotlib.pyplot as plt\n",
        "import cv2\n",
        "%matplotlib inline "
      ]
    },
    {
      "cell_type": "markdown",
      "source": [
        "Separating dataset in training and testing data, also a labels list is created to facilitate the visualization of the model performance."
      ],
      "metadata": {
        "id": "5oJJ6_rBBH0Y"
      }
    },
    {
      "cell_type": "code",
      "source": [
        "(train_X, train_Y), (test_X, test_Y) = cifar10.load_data()\n",
        "labels = ['airplane', 'automobile', 'bird', 'cat', 'deer', 'dog', 'frog', 'horse', 'ship', 'truck']"
      ],
      "metadata": {
        "id": "4sbPSZlk9ILG"
      },
      "execution_count": 13,
      "outputs": []
    },
    {
      "cell_type": "markdown",
      "source": [
        "Reshaping data. The '-1' specified that all the data is collected, the (32, 32) are the shape of (x, y) axis and '3' is a parameter on keras to deal with RGB images."
      ],
      "metadata": {
        "id": "LnV8lXH0BqFB"
      }
    },
    {
      "cell_type": "code",
      "source": [
        "train_X = train_X.reshape(-1, 32, 32, 3)\n",
        "test_X = test_X.reshape(-1, 32, 32, 3)"
      ],
      "metadata": {
        "id": "23YFQ-Z49Z8-"
      },
      "execution_count": 14,
      "outputs": []
    },
    {
      "cell_type": "markdown",
      "source": [
        "Setting values to the range [0, 1] will improve time rate."
      ],
      "metadata": {
        "id": "UCsKdeW1CrdS"
      }
    },
    {
      "cell_type": "code",
      "source": [
        "train_X = train_X.astype('float32')\n",
        "test_X = test_X.astype('float32')\n",
        "train_X = train_X / 255\n",
        "test_X = test_X / 255"
      ],
      "metadata": {
        "id": "TWF5ckSd9leP"
      },
      "execution_count": 15,
      "outputs": []
    },
    {
      "cell_type": "markdown",
      "source": [
        "The model can't work with categorical data in the output directly, therefore one hot enconding will be considered."
      ],
      "metadata": {
        "id": "gVyalNTMEBky"
      }
    },
    {
      "cell_type": "code",
      "source": [
        "train_Y_one_hot = tf.keras.utils.to_categorical(train_Y)\n",
        "test_Y_one_hot = tf.keras.utils.to_categorical(test_Y)"
      ],
      "metadata": {
        "id": "qPz7OHK99zLu"
      },
      "execution_count": 16,
      "outputs": []
    },
    {
      "cell_type": "markdown",
      "source": [
        "Building the model."
      ],
      "metadata": {
        "id": "gkdjyP_iEYBs"
      }
    },
    {
      "cell_type": "code",
      "source": [
        "model = Sequential()\n",
        "model.add(Conv2D(100, (3,3), input_shape=(32, 32, 3)))\n",
        "model.add(Activation('relu'))\n",
        "model.add(MaxPooling2D(pool_size=(2,2)))\n",
        "model.add(Conv2D(100, (3,3)))\n",
        "model.add(Activation('relu'))\n",
        "model.add(MaxPooling2D(pool_size=(2,2)))\n",
        "model.add(Flatten())\n",
        "model.add(Dense(100))\n",
        "model.add(Dense(10))\n",
        "model.add(Activation('softmax'))\n",
        "model.compile(loss=keras.losses.categorical_crossentropy, optimizer=tf.keras.optimizers.Adam(),metrics=['accuracy'])"
      ],
      "metadata": {
        "id": "H2McROfF-RGF"
      },
      "execution_count": 17,
      "outputs": []
    },
    {
      "cell_type": "markdown",
      "source": [
        "Fitting the model with the training data."
      ],
      "metadata": {
        "id": "nP137jhUEu9m"
      }
    },
    {
      "cell_type": "code",
      "source": [
        "model.fit(train_X, train_Y_one_hot, batch_size=100, epochs=10)"
      ],
      "metadata": {
        "colab": {
          "base_uri": "https://localhost:8080/"
        },
        "id": "wTVlHgVX-bsW",
        "outputId": "bdf51382-734e-48c6-a600-416b07eeb897"
      },
      "execution_count": 18,
      "outputs": [
        {
          "output_type": "stream",
          "name": "stdout",
          "text": [
            "Epoch 1/10\n",
            "500/500 [==============================] - 181s 361ms/step - loss: 1.4367 - accuracy: 0.4869\n",
            "Epoch 2/10\n",
            "500/500 [==============================] - 165s 331ms/step - loss: 1.0850 - accuracy: 0.6212\n",
            "Epoch 3/10\n",
            "500/500 [==============================] - 164s 328ms/step - loss: 0.9655 - accuracy: 0.6665\n",
            "Epoch 4/10\n",
            "500/500 [==============================] - 163s 325ms/step - loss: 0.8970 - accuracy: 0.6883\n",
            "Epoch 5/10\n",
            "500/500 [==============================] - 162s 325ms/step - loss: 0.8275 - accuracy: 0.7145\n",
            "Epoch 6/10\n",
            "500/500 [==============================] - 165s 329ms/step - loss: 0.7859 - accuracy: 0.7274\n",
            "Epoch 7/10\n",
            "500/500 [==============================] - 164s 328ms/step - loss: 0.7483 - accuracy: 0.7404\n",
            "Epoch 8/10\n",
            "500/500 [==============================] - 163s 325ms/step - loss: 0.7091 - accuracy: 0.7546\n",
            "Epoch 9/10\n",
            "500/500 [==============================] - 163s 326ms/step - loss: 0.6744 - accuracy: 0.7661\n",
            "Epoch 10/10\n",
            "500/500 [==============================] - 161s 323ms/step - loss: 0.6517 - accuracy: 0.7716\n"
          ]
        },
        {
          "output_type": "execute_result",
          "data": {
            "text/plain": [
              "<keras.callbacks.History at 0x7f3c94683810>"
            ]
          },
          "metadata": {},
          "execution_count": 18
        }
      ]
    },
    {
      "cell_type": "markdown",
      "source": [
        "Calculating model accuracy"
      ],
      "metadata": {
        "id": "V0pDGePqFFmE"
      }
    },
    {
      "cell_type": "code",
      "source": [
        "test_loss, test_acc = model.evaluate(test_X, test_Y_one_hot)\n",
        "print('Test loss', test_loss)\n",
        "print('Test accuracy', test_acc)\n"
      ],
      "metadata": {
        "colab": {
          "base_uri": "https://localhost:8080/"
        },
        "id": "1V7tgNXb-lkF",
        "outputId": "bae984e1-4bfa-479b-88bc-471614fe844e"
      },
      "execution_count": 19,
      "outputs": [
        {
          "output_type": "stream",
          "name": "stdout",
          "text": [
            "313/313 [==============================] - 10s 31ms/step - loss: 0.9002 - accuracy: 0.7066\n",
            "Test loss 0.9002060294151306\n",
            "Test accuracy 0.70660001039505\n"
          ]
        }
      ]
    },
    {
      "cell_type": "markdown",
      "source": [
        "Testing model with random images"
      ],
      "metadata": {
        "id": "N6iVJfAOFMwa"
      }
    },
    {
      "cell_type": "code",
      "source": [
        "\n",
        "i = np.random.random_integers(0, 9999, 1)[0]\n",
        "predictions = model.predict(test_X)\n",
        "print(f'Its a {labels[np.argmax(np.round(predictions[i]))]}')\n",
        "plt.imshow(test_X[i])\n",
        "plt.show()"
      ],
      "metadata": {
        "colab": {
          "base_uri": "https://localhost:8080/",
          "height": 338
        },
        "id": "ALo0g71a-vFd",
        "outputId": "c5cd0e24-3404-470d-9e2c-51db1b2e7948"
      },
      "execution_count": 24,
      "outputs": [
        {
          "output_type": "stream",
          "name": "stderr",
          "text": [
            "/usr/local/lib/python3.7/dist-packages/ipykernel_launcher.py:2: DeprecationWarning: This function is deprecated. Please call randint(0, 9999 + 1) instead\n",
            "  \n"
          ]
        },
        {
          "output_type": "stream",
          "name": "stdout",
          "text": [
            "Its a dog\n"
          ]
        },
        {
          "output_type": "display_data",
          "data": {
            "text/plain": [
              "<Figure size 432x288 with 1 Axes>"
            ],
            "image/png": "[encoded data removed]"
          },
          "metadata": {
            "needs_background": "light"
          }
        }
      ]
    }
  ]
}